{
 "cells": [
  {
   "cell_type": "markdown",
   "id": "7b8af4b8-711c-4080-b7d0-1796afc1402b",
   "metadata": {},
   "source": [
    "## SAX XML parser basics"
   ]
  },
  {
   "cell_type": "code",
   "execution_count": 62,
   "id": "7cf63072-3010-4657-842f-faf0fe1b3a94",
   "metadata": {},
   "outputs": [],
   "source": [
    "EXAMPLE_XML_CODE_1 = \"\"\"\n",
    "<?xml version=\"1.0\" encoding=\"UTF-8\"?>\n",
    "<example>\n",
    "    <a>lorem ipsum</a>\n",
    "    <b>dolor sit amet</b>\n",
    "    <c d=\"e\"><f/></c>\n",
    "</example>\n",
    "\"\"\".lstrip()"
   ]
  },
  {
   "cell_type": "code",
   "execution_count": 63,
   "id": "0444a1b7-a0e0-4c31-a842-523235a4398b",
   "metadata": {},
   "outputs": [],
   "source": [
    "from xml import sax"
   ]
  },
  {
   "cell_type": "code",
   "execution_count": 64,
   "id": "50362d3d-5d31-44bf-9d52-1a27a9a080ec",
   "metadata": {},
   "outputs": [],
   "source": [
    "class CustomHandlerClass(sax.handler.ContentHandler):\n",
    "    def startElement(self, name, attrs):\n",
    "        print(\"Start tag\", name, \"with attrs\", attrs.items())\n",
    "\n",
    "    def endElement(self, name):\n",
    "        print(\"End tag\", name)\n",
    "\n",
    "    def characters(self, content):\n",
    "        print(\"Character data\", repr(content))"
   ]
  },
  {
   "cell_type": "code",
   "execution_count": 65,
   "id": "2484c99d-6bc9-4220-ac7e-031d26c7ab56",
   "metadata": {},
   "outputs": [
    {
     "name": "stdout",
     "output_type": "stream",
     "text": [
      "Start tag example with attrs []\n",
      "Character data '\\n'\n",
      "Character data '    '\n",
      "Start tag a with attrs []\n",
      "Character data 'lorem ipsum'\n",
      "End tag a\n",
      "Character data '\\n'\n",
      "Character data '    '\n",
      "Start tag b with attrs []\n",
      "Character data 'dolor sit amet'\n",
      "End tag b\n",
      "Character data '\\n'\n",
      "Character data '    '\n",
      "Start tag c with attrs [('d', 'e')]\n",
      "Start tag f with attrs []\n",
      "End tag f\n",
      "End tag c\n",
      "Character data '\\n'\n",
      "End tag example\n"
     ]
    }
   ],
   "source": [
    "parser = sax.make_parser()\n",
    "handler = CustomHandlerClass()\n",
    "parser.setContentHandler(handler)\n",
    "parser.feed(EXAMPLE_XML_CODE_1)"
   ]
  },
  {
   "cell_type": "code",
   "execution_count": 67,
   "id": "681a6ca9-80f6-4059-a899-7802db49e107",
   "metadata": {},
   "outputs": [],
   "source": [
    "EXAMPLE_XML_CODE_2 = \"\"\"\n",
    "<?xml version=\"1.0\" encoding=\"UTF-8\"?>\n",
    "<example>\n",
    "    <x>lorem</x>\n",
    "    <y><x>ipsum</x></y>\n",
    "    <x>dolor sit</x>\n",
    "</example>\n",
    "\"\"\".lstrip()"
   ]
  },
  {
   "cell_type": "code",
   "execution_count": 70,
   "id": "f0e63e59-f893-42d4-bf9d-284404698efc",
   "metadata": {},
   "outputs": [
    {
     "name": "stdout",
     "output_type": "stream",
     "text": [
      "x tag\n",
      "'lorem'\n",
      "x tag\n",
      "'ipsum'\n",
      "x tag\n",
      "'dolor sit'\n"
     ]
    }
   ],
   "source": [
    "class AnotherHandlerClass(sax.handler.ContentHandler):\n",
    "    is_x_tag = False\n",
    "    # is_y_tag = False\n",
    "\n",
    "    def startElement(self, name, attrs):\n",
    "        # if name == \"y\":\n",
    "        #     self.is_y_tag = True\n",
    "        if name == \"x\":  # and self.is_y_tag:\n",
    "            print(\"x tag\")\n",
    "            self.is_x_tag = True\n",
    "\n",
    "    def endElement(self, name):\n",
    "        if name == \"x\":\n",
    "            self.is_x_tag = False\n",
    "        # if name == \"y\":\n",
    "        #     self.is_y_tag = False\n",
    "\n",
    "    def characters(self, content):\n",
    "        if self.is_x_tag:\n",
    "            print(repr(content))\n",
    "\n",
    "parser = sax.make_parser()\n",
    "parser.setContentHandler(AnotherHandlerClass())\n",
    "parser.feed(EXAMPLE_XML_CODE_2)"
   ]
  },
  {
   "cell_type": "code",
   "execution_count": null,
   "id": "9a73c35a-f926-44fe-8efe-624c935fca04",
   "metadata": {},
   "outputs": [],
   "source": []
  }
 ],
 "metadata": {
  "kernelspec": {
   "display_name": "Python 3 (ipykernel)",
   "language": "python",
   "name": "python3"
  },
  "language_info": {
   "codemirror_mode": {
    "name": "ipython",
    "version": 3
   },
   "file_extension": ".py",
   "mimetype": "text/x-python",
   "name": "python",
   "nbconvert_exporter": "python",
   "pygments_lexer": "ipython3",
   "version": "3.10.12"
  }
 },
 "nbformat": 4,
 "nbformat_minor": 5
}
