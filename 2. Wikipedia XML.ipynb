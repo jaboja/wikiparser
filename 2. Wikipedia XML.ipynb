{
 "cells": [
  {
   "cell_type": "markdown",
   "id": "951767d3-fa95-4fc0-8648-68e7bfc330f4",
   "metadata": {
    "slideshow": {
     "slide_type": ""
    },
    "tags": []
   },
   "source": [
    "# Parse Wikipedia dump XML\n",
    "## Parsing the XML itself"
   ]
  },
  {
   "cell_type": "code",
   "execution_count": 26,
   "id": "2c550f00-5962-4321-a159-043975dbdd62",
   "metadata": {},
   "outputs": [],
   "source": [
    "from xml import sax"
   ]
  },
  {
   "cell_type": "code",
   "execution_count": 16,
   "id": "960cddd4-926f-4c5f-93d5-af0ab7c0d791",
   "metadata": {},
   "outputs": [],
   "source": [
    "class WikipediaHandler(sax.handler.ContentHandler):\n",
    "    in_page = False\n",
    "    in_text = False\n",
    "    last_text = \"\"\n",
    "\n",
    "    def __init__(self, handle_text, strip_wikicode=lambda s: s):\n",
    "        self.handle_text = handle_text\n",
    "        self.strip_wikicode = strip_wikicode\n",
    "\n",
    "    def startElement(self, name, attrs):\n",
    "        if name == 'page':\n",
    "            self.in_page = True\n",
    "            self.in_text = False\n",
    "        elif self.in_page and name == 'text':\n",
    "            self.in_text = True\n",
    "            self.last_text = \"\"\n",
    "        else:\n",
    "            self.in_text = False\n",
    "\n",
    "    def endElement(self, name):\n",
    "        if name == 'text':\n",
    "            self.in_text = False\n",
    "        elif name == 'page':\n",
    "            self.in_text = False\n",
    "            self.in_page = False\n",
    "            self.parse_text()\n",
    "\n",
    "    def characters(self, content):\n",
    "        if self.in_text:\n",
    "            self.last_text += content\n",
    "\n",
    "    def parse_text(self):\n",
    "        if self.last_text:\n",
    "            text = self.strip_wikicode(self.last_text)\n",
    "            self.last_text = \"\"\n",
    "            self.handle_text(text)"
   ]
  },
  {
   "cell_type": "code",
   "execution_count": 23,
   "id": "4380d344-3f9a-4226-853b-9bcdb98d6e6d",
   "metadata": {},
   "outputs": [
    {
     "name": "stdout",
     "output_type": "stream",
     "text": [
      "Article text:\n",
      "\t \n",
      "          Lorem ipsum dolor sit<ref name=\"utf8_ascii\">{{Cytuj stronę |tytuł=utf-8(7)&nbsp;– Linux manual page |opublikowany=Man7.org |data=2014-02-26 |url=http://man7.org/linux/man-pages/man7/utf-8.7.html |data dostępu=2014-04-21 |język=en}}</ref> amet\n",
      "      \n",
      "Article text:\n",
      "\t Another [[article]] text...\n"
     ]
    }
   ],
   "source": [
    "parser = sax.make_parser()\n",
    "parser.setContentHandler(WikipediaHandler(lambda s: print(\"Article text:\\n\\t\", s)))\n",
    "with open('example.xml', 'r', encoding=\"UTF-8\") as fd:\n",
    "    parser.feed(fd.read())"
   ]
  },
  {
   "cell_type": "markdown",
   "id": "465435dd-7bf9-46ac-bc58-c19c0c46cb22",
   "metadata": {},
   "source": [
    "## Stripping Mediawiki markup"
   ]
  },
  {
   "cell_type": "code",
   "execution_count": 14,
   "id": "8b1e604a-6532-43fd-ae69-6fcd3b778fc1",
   "metadata": {},
   "outputs": [],
   "source": [
    "import mwparserfromhell as mw\n",
    "import re"
   ]
  },
  {
   "cell_type": "code",
   "execution_count": 15,
   "id": "00cbd611-f053-425e-9e4a-bc5751968074",
   "metadata": {},
   "outputs": [],
   "source": [
    "SEP_STR = \";;;\"\n",
    "SEP = mw.nodes.text.Text(SEP_STR)\n",
    "re_URL = re.compile(r\"(?:http|https|ftp)://[A-Za-z0-9:._\\/~%+&#?!=()@-]+[\\w/]\")\n",
    "re_SEP = re.compile(r\";{3,}\")\n",
    "\n",
    "def strip_wikicode(text):\n",
    "    t = mw.parse(text)\n",
    "    for tag in t.filter_tags(matches=lambda node: node.tag == 'ref'):\n",
    "        if hasattr(tag.contents, 'nodes'):\n",
    "            tag.contents.nodes = [SEP] + tag.contents.nodes + [SEP]\n",
    "        else:\n",
    "            tag.value = SEP_STR + tag.value + SEP_STR\n",
    "    text = re_URL.sub(SEP_STR, t.strip_code())\n",
    "    text = re_SEP.sub(\"\\n\\n\", text)\n",
    "    return text"
   ]
  },
  {
   "cell_type": "code",
   "execution_count": 22,
   "id": "c1080577-fb72-4075-80d3-8d1bc579aaa1",
   "metadata": {},
   "outputs": [
    {
     "name": "stdout",
     "output_type": "stream",
     "text": [
      "Article text:\n",
      "\t           Lorem ipsum dolor sit\n",
      "\n",
      " amet\n",
      "      \n",
      "Article text:\n",
      "\t Another article text...\n"
     ]
    }
   ],
   "source": [
    "parser = sax.make_parser()\n",
    "parser.setContentHandler(WikipediaHandler(\n",
    "    lambda s: print(\"Article text:\\n\\t\", s),\n",
    "    strip_wikicode))\n",
    "with open('example.xml', 'r', encoding=\"UTF-8\") as fd:\n",
    "    parser.feed(fd.read())"
   ]
  },
  {
   "cell_type": "markdown",
   "id": "d866c4b6-13ff-465a-889d-640e5d2f3733",
   "metadata": {},
   "source": [
    "## Reading XML from BZ2 archives in chunks"
   ]
  },
  {
   "cell_type": "code",
   "execution_count": 50,
   "id": "b860a470-ca84-4963-92b2-fd1d190abfdb",
   "metadata": {},
   "outputs": [],
   "source": [
    "#!wget https://dumps.wikimedia.org/plwiki/20240801/plwiki-20240801-pages-meta-current1.xml-p1p187037.bz2"
   ]
  },
  {
   "cell_type": "code",
   "execution_count": 37,
   "id": "a6c49db8-e9ca-432e-b658-bb0cef8cc59b",
   "metadata": {},
   "outputs": [],
   "source": [
    "import bz2, sys\n",
    "\n",
    "def read_chunks(file_name, callback, chunk_size, max_chunks=None):\n",
    "    if file_name.endswith(\".bz2\"):\n",
    "        fd = bz2.open(file_name, \"rt\", encoding=\"utf-8\")\n",
    "    else:\n",
    "        fd = open(file_name, \"rt\", encoding=\"utf-8\")\n",
    "\n",
    "    chunk_n = 0\n",
    "    with fd:\n",
    "        while max_chunks is None or chunk_n < max_chunks:\n",
    "            buffer = fd.read(chunk_size)\n",
    "            chunk_n += 1\n",
    "            print(\"Chunk\", chunk_n, \"of\", len(buffer), \"bytes\", type(buffer), file=sys.stderr)\n",
    "            if not buffer:\n",
    "                break\n",
    "            try:\n",
    "                callback(buffer)\n",
    "            except StopIteration:\n",
    "                break"
   ]
  },
  {
   "cell_type": "code",
   "execution_count": 46,
   "id": "bfc5366d-636b-4597-a25d-0ef45a634c1a",
   "metadata": {},
   "outputs": [],
   "source": [
    "def handle_article_text(text):\n",
    "    print(len(text), repr([text[:10], text[-10:]]))"
   ]
  },
  {
   "cell_type": "code",
   "execution_count": 47,
   "id": "1897472c-cb69-4434-b1db-e37bcf1360ac",
   "metadata": {},
   "outputs": [],
   "source": [
    "FILE_NAME = 'plwiki-20240801-pages-meta-current1.xml-p1p187037.bz2'\n",
    "CHUNK_SIZE = 1024 * 1024 * 8  # 8 MB"
   ]
  },
  {
   "cell_type": "code",
   "execution_count": 49,
   "id": "f04ec9f8-1188-4415-8dc0-b8f6d2c49e31",
   "metadata": {},
   "outputs": [],
   "source": [
    "parser = sax.make_parser()\n",
    "parser.setContentHandler(WikipediaHandler(handle_article_text, strip_wikicode))\n",
    "read_chunks(FILE_NAME, parser.feed, CHUNK_SIZE, 3)"
   ]
  },
  {
   "cell_type": "code",
   "execution_count": null,
   "id": "7fb8885b-cd22-49d3-b892-0e27618b91e3",
   "metadata": {},
   "outputs": [],
   "source": []
  }
 ],
 "metadata": {
  "kernelspec": {
   "display_name": "Python 3 (ipykernel)",
   "language": "python",
   "name": "python3"
  },
  "language_info": {
   "codemirror_mode": {
    "name": "ipython",
    "version": 3
   },
   "file_extension": ".py",
   "mimetype": "text/x-python",
   "name": "python",
   "nbconvert_exporter": "python",
   "pygments_lexer": "ipython3",
   "version": "3.10.12"
  }
 },
 "nbformat": 4,
 "nbformat_minor": 5
}
