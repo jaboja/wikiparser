{
 "cells": [
  {
   "cell_type": "code",
   "execution_count": 26,
   "id": "73e828a1-6e45-4896-abdf-7ff972eeccc2",
   "metadata": {},
   "outputs": [
    {
     "data": {
      "application/javascript": [
       "const banner = document.createElement(\"div\");\n",
       "banner.setAttribute(\"style\", \"width:90%;line-height:10vh;padding:5vh 0;border:2px solid #000;position:absolute;left:5%;top:20vh;background:#fffc;text-align:center;font-size:300%\");\n",
       "banner.innerHTML = \"<b>Jakub Bogusław Jagiełło</b><br>jakub.jagiello@amu.edu.pl\";\n",
       "banner.onclick = () => banner.parentNode.removeChild(banner);\n",
       "document.body.appendChild(banner);\n"
      ],
      "text/plain": [
       "<IPython.core.display.Javascript object>"
      ]
     },
     "metadata": {},
     "output_type": "display_data"
    }
   ],
   "source": [
    "%%js\n",
    "const banner = document.createElement(\"div\");\n",
    "banner.setAttribute(\"style\", \"width:90%;line-height:10vh;padding:5vh 0;border:2px solid #000;position:absolute;left:5%;top:20vh;background:#fffc;text-align:center;font-size:300%\");\n",
    "banner.innerHTML = \"<b>Jakub Bogusław Jagiełło</b><br>jakub.jagiello@amu.edu.pl\";\n",
    "banner.onclick = () => banner.parentNode.removeChild(banner);\n",
    "document.body.appendChild(banner);"
   ]
  },
  {
   "cell_type": "code",
   "execution_count": 25,
   "id": "181d165e-016b-4895-9c44-977b3b6bedc9",
   "metadata": {},
   "outputs": [
    {
     "data": {
      "application/javascript": [
       "const banner = document.createElement(\"div\");\n",
       "banner.setAttribute(\"style\", \"width:90%;line-height:10vh;border:2px solid #000;position:absolute;left:5%;bottom:5vw;background:#fff;text-align:center;font-size:200%\");\n",
       "banner.innerHTML = \"https://dumps.wikimedia.org/<br>https://github.com/jaboja/wikiparser\";\n",
       "banner.onclick = () => banner.parentNode.removeChild(banner);\n",
       "document.body.appendChild(banner);\n"
      ],
      "text/plain": [
       "<IPython.core.display.Javascript object>"
      ]
     },
     "metadata": {},
     "output_type": "display_data"
    }
   ],
   "source": [
    "%%js\n",
    "const banner = document.createElement(\"div\");\n",
    "banner.setAttribute(\"style\", \"width:90%;line-height:10vh;border:2px solid #000;position:absolute;left:5%;bottom:5vw;background:#fff;text-align:center;font-size:200%\");\n",
    "banner.innerHTML = \"https://dumps.wikimedia.org/<br>https://github.com/jaboja/wikiparser\";\n",
    "banner.onclick = () => banner.parentNode.removeChild(banner);\n",
    "document.body.appendChild(banner);"
   ]
  },
  {
   "cell_type": "code",
   "execution_count": null,
   "id": "b2a58b96-9dc4-415a-af1c-1a9716bcf77a",
   "metadata": {},
   "outputs": [],
   "source": []
  },
  {
   "cell_type": "code",
   "execution_count": null,
   "id": "9cb53d88-d8c1-4886-9c66-679b19d7f860",
   "metadata": {},
   "outputs": [],
   "source": []
  }
 ],
 "metadata": {
  "kernelspec": {
   "display_name": "Python 3 (ipykernel)",
   "language": "python",
   "name": "python3"
  },
  "language_info": {
   "codemirror_mode": {
    "name": "ipython",
    "version": 3
   },
   "file_extension": ".py",
   "mimetype": "text/x-python",
   "name": "python",
   "nbconvert_exporter": "python",
   "pygments_lexer": "ipython3",
   "version": "3.10.12"
  }
 },
 "nbformat": 4,
 "nbformat_minor": 5
}
